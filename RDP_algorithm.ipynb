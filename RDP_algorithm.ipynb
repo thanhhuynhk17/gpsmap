{
 "cells": [
  {
   "cell_type": "markdown",
   "metadata": {},
   "source": [
    "# Super Ultra Alpha Omega RDP"
   ]
  },
  {
   "cell_type": "code",
   "execution_count": null,
   "metadata": {},
   "outputs": [],
   "source": [
    "import pandas as pd # To structure and manipulated data in a DataFrame format\n",
    "import geopandas as gpd # To work with spatial data in a DataFrame\n",
    "from geopandas import GeoDataFrame # To create a GeoDataFrame from a DataFrame\n",
    "\n",
    "from shapely.geometry import shape, Point, LineString # To create line geometries that can be used in a GeoDataFrame\n",
    "\n",
    "import matplotlib.pyplot as plt\n",
    "plt.rcParams['axes.xmargin'] = 0.1\n",
    "plt.rcParams['axes.ymargin'] = 0.1\n",
    "%matplotlib inline\n"
   ]
  },
  {
   "cell_type": "markdown",
   "metadata": {},
   "source": [
    "## INPUT DATA"
   ]
  },
  {
   "cell_type": "code",
   "execution_count": null,
   "metadata": {},
   "outputs": [],
   "source": [
    "df= pd.read_csv('input/trip_index.csv')\n",
    "df.head()\n"
   ]
  },
  {
   "cell_type": "markdown",
   "metadata": {},
   "source": [
    "**Chuyển sang dạng GeoDataframe:**"
   ]
  },
  {
   "cell_type": "code",
   "execution_count": null,
   "metadata": {},
   "outputs": [],
   "source": [
    "geometry = [Point(xy) for xy in zip(df.x, df.y)]\n",
    "# gdf = df.drop(['y', 'x'], axis=1)\n",
    "# gdf = gdf.sort_values('datetime', ascending = True)\n",
    "gdf = GeoDataFrame(df, crs=\"EPSG:4326\", geometry=geometry)\n",
    "\n",
    "gdf['datetime'] = pd.to_datetime(gdf['datetime'])\n",
    "gdf = gdf.sort_values(['vehicle', 'datetime'], ascending=[True, True])\n",
    "gdf.reset_index(drop=True, inplace=True)\n",
    "# show gdf data\n",
    "gdf.head(100)"
   ]
  },
  {
   "cell_type": "markdown",
   "metadata": {},
   "source": [
    "https://www.youtube.com/watch?v=9Q8nEA_0ccg\n",
    "https://github.com/FlorianWilhelm/gps_data_with_python"
   ]
  },
  {
   "cell_type": "markdown",
   "metadata": {},
   "source": [
    "## EXTRACTING POINTS USE `RAMER-DOUGLAS-PEUCKER` ALGORITHM "
   ]
  },
  {
   "cell_type": "markdown",
   "metadata": {},
   "source": [
    "Extract subset for testing"
   ]
  },
  {
   "cell_type": "code",
   "execution_count": null,
   "metadata": {},
   "outputs": [],
   "source": [
    "# gdf = gdf[:1000]"
   ]
  },
  {
   "cell_type": "code",
   "execution_count": null,
   "metadata": {},
   "outputs": [],
   "source": [
    "from rdp import rdp\n",
    "import numpy as np"
   ]
  },
  {
   "cell_type": "markdown",
   "metadata": {},
   "source": [
    "Get list vehicle id"
   ]
  },
  {
   "cell_type": "code",
   "execution_count": null,
   "metadata": {},
   "outputs": [],
   "source": [
    "''' get_vehicles() params:\n",
    "input:\n",
    "    gdf: geodataframe\n",
    "output:\n",
    "    vehicles: list vehicle id\n",
    "'''\n",
    "def get_trajecs(gdf):\n",
    "    # get list trajecs\n",
    "    trajecs = gdf.drop_duplicates(subset='Trip')['Trip']\n",
    "    trajecs = np.array(trajecs, dtype=object)\n",
    "    \n",
    "    return trajecs"
   ]
  },
  {
   "cell_type": "markdown",
   "metadata": {},
   "source": [
    "Get points for RDP algorithm"
   ]
  },
  {
   "cell_type": "code",
   "execution_count": null,
   "metadata": {},
   "outputs": [],
   "source": [
    "''' get_points() params:\n",
    "input:\n",
    "    gdf: geodataframe\n",
    "output:\n",
    "    points: list points(x, y)\n",
    "'''\n",
    "def get_points(gdf):\n",
    "    # create vector (n,1) \n",
    "    x_arr = gdf['geometry'].x.to_numpy().T\n",
    "    x_arr = x_arr[:,np.newaxis]\n",
    "    # create vector (n,1) \n",
    "    y_arr = gdf[\"geometry\"].y.to_numpy().T\n",
    "    y_arr = y_arr[:, np.newaxis]\n",
    "    # get points\n",
    "    points = np.concatenate((x_arr,y_arr), axis=1) # axis=1 -> columns effect\n",
    "    \n",
    "    return points"
   ]
  },
  {
   "cell_type": "markdown",
   "metadata": {},
   "source": [
    "Apply RDP algorithm with every single trajectory"
   ]
  },
  {
   "cell_type": "code",
   "execution_count": null,
   "metadata": {},
   "outputs": [],
   "source": [
    "''' run_rdp() params:\n",
    "gdf: geodataframe\n",
    "epsilon: \n",
    "algo='iter'\n",
    "'''\n",
    "def run_rdp(gdf, eps):\n",
    "    # init empty geodataframe\n",
    "    gdf_rdp = None\n",
    "    # get list trajecs\n",
    "    trajecs = get_trajecs(gdf)\n",
    "    # run RDP with a trajectory\n",
    "    for idx,id in enumerate(trajecs):\n",
    "        subgdf = gdf[gdf['Trip'] == id]\n",
    "        # get points\n",
    "        points = get_points(subgdf)\n",
    "        # ignore trajec has length < 10\n",
    "        if len(points) >= 10:\n",
    "            ''' rdp() params:\n",
    "            arr: numpy array with shape (n,d) where `n` is numbers of points, `d` is their dimension\n",
    "            algo: 2 options \"iter\" for iterative | \"rec\" for recursive \n",
    "            return_mask: `True` or `False`: return mask instead of simplified array, can be use with algo=\"iter\" mode\n",
    "\n",
    "            source: `https://rdp.readthedocs.io/en/latest/?badge=latest` (RDP docs)\n",
    "            '''\n",
    "            mask = rdp(points, epsilon=eps, algo=\"iter\", return_mask=True)\n",
    "            # concat gdf\n",
    "            if idx == 0:\n",
    "                gdf_rdp = subgdf[mask]\n",
    "            else:\n",
    "                gdf_rdp = pd.concat([gdf_rdp, subgdf[mask]])\n",
    "                \n",
    "    return gdf_rdp\n",
    "        "
   ]
  },
  {
   "cell_type": "code",
   "execution_count": null,
   "metadata": {},
   "outputs": [],
   "source": [
    "%%time\n",
    "gdf_rdp = run_rdp(gdf, eps=0.0001)"
   ]
  },
  {
   "cell_type": "code",
   "execution_count": null,
   "metadata": {},
   "outputs": [],
   "source": [
    "len(gdf)"
   ]
  },
  {
   "cell_type": "markdown",
   "metadata": {},
   "source": [
    "## Visualizing data into folium map"
   ]
  },
  {
   "cell_type": "code",
   "execution_count": null,
   "metadata": {},
   "outputs": [],
   "source": [
    "import folium "
   ]
  },
  {
   "cell_type": "markdown",
   "metadata": {},
   "source": [
    "### helper functions: visualize into folium map"
   ]
  },
  {
   "cell_type": "code",
   "execution_count": null,
   "metadata": {
    "jupyter": {
     "source_hidden": true
    }
   },
   "outputs": [],
   "source": [
    "colors = [\n",
    "    'red',\n",
    "    'yellow',\n",
    "    'blue',\n",
    "    'lightred',\n",
    "    'orange',\n",
    "    'green',\n",
    "    'lightgreen',\n",
    "    'purple',\n",
    "    'pink']\n",
    "\n",
    "def add_point(mapobj, gdf, colors):\n",
    "    #Nạp x,y từ dataframe vào list coords\n",
    "    coords = list(zip(gdf[\"geometry\"].x, gdf[\"geometry\"].y))\n",
    "    #Hiển thị trên mapobj\n",
    "    for coord in coords:\n",
    "        folium.CircleMarker(location = coord,\n",
    "                            radius = 1.5, \n",
    "                            fill = True,\n",
    "                            fill_opacity = 0.75,\n",
    "                            color = colors,\n",
    "                            weight = 0.01).add_to(mapobj)\n",
    "           \n",
    "def add_lines(mapobj, gdf, color):\n",
    "    coords = list(zip(gdf[\"geometry\"].x, gdf[\"geometry\"].y))\n",
    "    folium.PolyLine(coords, color=color, weight=1, opacity=1).add_to(mapobj)\n",
    "       \n",
    "    \n",
    "'''\n",
    "Hàm hiển thị map.\n",
    "Tùy chọn:\n",
    "- mapobj: bản đồ nền\n",
    "- gdf: geodataframe\n",
    "- start: lộ trình bắt đầu\n",
    "- end: lộ trình kết thúc\n",
    "- mask_type: dạng đường (1) và dạng điểm (0)\n",
    "'''\n",
    "def show_n_route(mapobj, gdf, mask_type):\n",
    "    # Khởi tạo bản đồ mapobj\n",
    "    f = folium.Figure(height = 600)\n",
    "    mapobj.add_to(f)\n",
    "\n",
    "    # Get list trajecs id\n",
    "    trajecs = get_trajecs(gdf)\n",
    "    # Show every single trajec\n",
    "    for idx,id in enumerate(trajecs):\n",
    "        # get sub trajec\n",
    "        subgdf = gdf[gdf['Trip'] == id]\n",
    "\n",
    "        if mask_type == 0:\n",
    "            add_point(mapobj, subgdf, colors[idx % len(colors)])\n",
    "        else:\n",
    "            add_lines(mapobj, subgdf, colors[idx % len(colors)])\n",
    "  \n",
    "    return mapobj"
   ]
  },
  {
   "cell_type": "markdown",
   "metadata": {},
   "source": [
    "### BEFORE APPLYING RDP ALGORITHM"
   ]
  },
  {
   "cell_type": "code",
   "execution_count": null,
   "metadata": {},
   "outputs": [],
   "source": [
    "# map\n",
    "mapobj1 = folium.Map([10.783284, 106.682347], zoom_start = 15, tiles='Cartodb dark_matter')\n",
    "\n",
    "# # show points fisrt\n",
    "# show_n_route(mapobj1, gdf, 0)\n",
    "# show lines\n",
    "show_n_route(mapobj1, gdf, 0)\n"
   ]
  },
  {
   "cell_type": "markdown",
   "metadata": {},
   "source": [
    "### AFTER"
   ]
  },
  {
   "cell_type": "code",
   "execution_count": null,
   "metadata": {},
   "outputs": [],
   "source": [
    "# map\n",
    "mapobj2 = folium.Map([10.783284, 106.682347], zoom_start = 15, tiles='Cartodb dark_matter')\n",
    "\n",
    "# show lines fisrt\n",
    "show_n_route(mapobj2, gdf_rdp, 1)\n",
    "# show points \n",
    "show_n_route(mapobj2, gdf_rdp, 0)\n"
   ]
  },
  {
   "cell_type": "markdown",
   "metadata": {},
   "source": [
    "Saving output"
   ]
  },
  {
   "cell_type": "code",
   "execution_count": null,
   "metadata": {},
   "outputs": [],
   "source": [
    "fname1 = \"output/before.html\"\n",
    "mapobj1.save(fname1)"
   ]
  },
  {
   "cell_type": "code",
   "execution_count": null,
   "metadata": {},
   "outputs": [],
   "source": [
    "fname2 = \"output/after.html\"\n",
    "mapobj2.save(fname2)"
   ]
  },
  {
   "cell_type": "code",
   "execution_count": null,
   "metadata": {},
   "outputs": [],
   "source": [
    "gdf_rdp.to_csv(\"output/trip_rdp.csv\")"
   ]
  },
  {
   "cell_type": "code",
   "execution_count": null,
   "metadata": {},
   "outputs": [],
   "source": [
    "gdf.count()"
   ]
  },
  {
   "cell_type": "code",
   "execution_count": null,
   "metadata": {},
   "outputs": [],
   "source": [
    "gdf_rdp.count()"
   ]
  },
  {
   "cell_type": "code",
   "execution_count": null,
   "metadata": {},
   "outputs": [],
   "source": []
  }
 ],
 "metadata": {
  "kernelspec": {
   "display_name": "Python 3",
   "language": "python",
   "name": "python3"
  },
  "language_info": {
   "codemirror_mode": {
    "name": "ipython",
    "version": 3
   },
   "file_extension": ".py",
   "mimetype": "text/x-python",
   "name": "python",
   "nbconvert_exporter": "python",
   "pygments_lexer": "ipython3",
   "version": "3.8.6"
  }
 },
 "nbformat": 4,
 "nbformat_minor": 4
}
