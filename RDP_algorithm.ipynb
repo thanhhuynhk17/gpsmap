{
 "cells": [
  {
   "cell_type": "markdown",
   "metadata": {},
   "source": [
    "# Super Ultra Alpha Omega RDP"
   ]
  },
  {
   "cell_type": "code",
   "execution_count": 1,
   "metadata": {},
   "outputs": [],
   "source": [
    "import pandas as pd # To structure and manipulated data in a DataFrame format\n",
    "import geopandas as gpd # To work with spatial data in a DataFrame\n",
    "from geopandas import GeoDataFrame # To create a GeoDataFrame from a DataFrame\n",
    "\n",
    "from shapely.geometry import shape, Point, LineString # To create line geometries that can be used in a GeoDataFrame\n",
    "\n",
    "import matplotlib.pyplot as plt\n",
    "plt.rcParams['axes.xmargin'] = 0.1\n",
    "plt.rcParams['axes.ymargin'] = 0.1\n",
    "%matplotlib inline\n"
   ]
  },
  {
   "cell_type": "markdown",
   "metadata": {},
   "source": [
    "## INPUT DATA"
   ]
  },
  {
   "cell_type": "code",
   "execution_count": 2,
   "metadata": {},
   "outputs": [
    {
     "data": {
      "text/html": [
       "<div>\n",
       "<style scoped>\n",
       "    .dataframe tbody tr th:only-of-type {\n",
       "        vertical-align: middle;\n",
       "    }\n",
       "\n",
       "    .dataframe tbody tr th {\n",
       "        vertical-align: top;\n",
       "    }\n",
       "\n",
       "    .dataframe thead th {\n",
       "        text-align: right;\n",
       "    }\n",
       "</style>\n",
       "<table border=\"1\" class=\"dataframe\">\n",
       "  <thead>\n",
       "    <tr style=\"text-align: right;\">\n",
       "      <th></th>\n",
       "      <th>vehicle</th>\n",
       "      <th>level_1</th>\n",
       "      <th>datetime</th>\n",
       "      <th>speed</th>\n",
       "      <th>y</th>\n",
       "      <th>x</th>\n",
       "      <th>heading</th>\n",
       "      <th>vehicleType</th>\n",
       "      <th>time_interval</th>\n",
       "      <th>distance</th>\n",
       "      <th>heading_interval</th>\n",
       "      <th>Trip</th>\n",
       "    </tr>\n",
       "  </thead>\n",
       "  <tbody>\n",
       "    <tr>\n",
       "      <th>0</th>\n",
       "      <td>15C01678</td>\n",
       "      <td>0</td>\n",
       "      <td>2018-04-24 17:56:31</td>\n",
       "      <td>8.0</td>\n",
       "      <td>106.681921</td>\n",
       "      <td>10.765486</td>\n",
       "      <td>30.579252</td>\n",
       "      <td>500</td>\n",
       "      <td>11.0</td>\n",
       "      <td>32.364445</td>\n",
       "      <td>0.000000</td>\n",
       "      <td>0</td>\n",
       "    </tr>\n",
       "    <tr>\n",
       "      <th>1</th>\n",
       "      <td>15C01678</td>\n",
       "      <td>1</td>\n",
       "      <td>2018-04-24 17:56:42</td>\n",
       "      <td>13.0</td>\n",
       "      <td>106.682066</td>\n",
       "      <td>10.765734</td>\n",
       "      <td>45.469121</td>\n",
       "      <td>500</td>\n",
       "      <td>8.0</td>\n",
       "      <td>33.819979</td>\n",
       "      <td>14.889869</td>\n",
       "      <td>0</td>\n",
       "    </tr>\n",
       "    <tr>\n",
       "      <th>2</th>\n",
       "      <td>15C01678</td>\n",
       "      <td>2</td>\n",
       "      <td>2018-04-24 17:56:50</td>\n",
       "      <td>18.0</td>\n",
       "      <td>106.682290</td>\n",
       "      <td>10.765952</td>\n",
       "      <td>43.870221</td>\n",
       "      <td>500</td>\n",
       "      <td>6.0</td>\n",
       "      <td>33.213130</td>\n",
       "      <td>1.598900</td>\n",
       "      <td>0</td>\n",
       "    </tr>\n",
       "    <tr>\n",
       "      <th>3</th>\n",
       "      <td>15C01678</td>\n",
       "      <td>3</td>\n",
       "      <td>2018-04-24 17:56:56</td>\n",
       "      <td>20.0</td>\n",
       "      <td>106.682498</td>\n",
       "      <td>10.766169</td>\n",
       "      <td>43.404318</td>\n",
       "      <td>500</td>\n",
       "      <td>6.0</td>\n",
       "      <td>35.094524</td>\n",
       "      <td>0.465903</td>\n",
       "      <td>0</td>\n",
       "    </tr>\n",
       "    <tr>\n",
       "      <th>4</th>\n",
       "      <td>15C01678</td>\n",
       "      <td>4</td>\n",
       "      <td>2018-04-24 17:57:02</td>\n",
       "      <td>22.0</td>\n",
       "      <td>106.682722</td>\n",
       "      <td>10.766400</td>\n",
       "      <td>40.975231</td>\n",
       "      <td>500</td>\n",
       "      <td>5.0</td>\n",
       "      <td>32.605395</td>\n",
       "      <td>2.429086</td>\n",
       "      <td>0</td>\n",
       "    </tr>\n",
       "  </tbody>\n",
       "</table>\n",
       "</div>"
      ],
      "text/plain": [
       "    vehicle  level_1             datetime  speed           y          x  \\\n",
       "0  15C01678        0  2018-04-24 17:56:31    8.0  106.681921  10.765486   \n",
       "1  15C01678        1  2018-04-24 17:56:42   13.0  106.682066  10.765734   \n",
       "2  15C01678        2  2018-04-24 17:56:50   18.0  106.682290  10.765952   \n",
       "3  15C01678        3  2018-04-24 17:56:56   20.0  106.682498  10.766169   \n",
       "4  15C01678        4  2018-04-24 17:57:02   22.0  106.682722  10.766400   \n",
       "\n",
       "     heading  vehicleType  time_interval   distance  heading_interval  Trip  \n",
       "0  30.579252          500           11.0  32.364445          0.000000     0  \n",
       "1  45.469121          500            8.0  33.819979         14.889869     0  \n",
       "2  43.870221          500            6.0  33.213130          1.598900     0  \n",
       "3  43.404318          500            6.0  35.094524          0.465903     0  \n",
       "4  40.975231          500            5.0  32.605395          2.429086     0  "
      ]
     },
     "execution_count": 2,
     "metadata": {},
     "output_type": "execute_result"
    }
   ],
   "source": [
    "df= pd.read_csv('data/trip_index.csv')\n",
    "df.head()\n"
   ]
  },
  {
   "cell_type": "markdown",
   "metadata": {},
   "source": [
    "**Chuyển sang dạng GeoDataframe:**"
   ]
  },
  {
   "cell_type": "code",
   "execution_count": 3,
   "metadata": {},
   "outputs": [
    {
     "data": {
      "text/html": [
       "<div>\n",
       "<style scoped>\n",
       "    .dataframe tbody tr th:only-of-type {\n",
       "        vertical-align: middle;\n",
       "    }\n",
       "\n",
       "    .dataframe tbody tr th {\n",
       "        vertical-align: top;\n",
       "    }\n",
       "\n",
       "    .dataframe thead th {\n",
       "        text-align: right;\n",
       "    }\n",
       "</style>\n",
       "<table border=\"1\" class=\"dataframe\">\n",
       "  <thead>\n",
       "    <tr style=\"text-align: right;\">\n",
       "      <th></th>\n",
       "      <th>vehicle</th>\n",
       "      <th>level_1</th>\n",
       "      <th>datetime</th>\n",
       "      <th>speed</th>\n",
       "      <th>y</th>\n",
       "      <th>x</th>\n",
       "      <th>heading</th>\n",
       "      <th>vehicleType</th>\n",
       "      <th>time_interval</th>\n",
       "      <th>distance</th>\n",
       "      <th>heading_interval</th>\n",
       "      <th>Trip</th>\n",
       "      <th>geometry</th>\n",
       "    </tr>\n",
       "  </thead>\n",
       "  <tbody>\n",
       "    <tr>\n",
       "      <th>0</th>\n",
       "      <td>15C01678</td>\n",
       "      <td>0</td>\n",
       "      <td>2018-04-24 17:56:31</td>\n",
       "      <td>8.0</td>\n",
       "      <td>106.681921</td>\n",
       "      <td>10.765486</td>\n",
       "      <td>30.579252</td>\n",
       "      <td>500</td>\n",
       "      <td>11.0</td>\n",
       "      <td>32.364445</td>\n",
       "      <td>0.000000</td>\n",
       "      <td>0</td>\n",
       "      <td>POINT (10.765 106.682)</td>\n",
       "    </tr>\n",
       "    <tr>\n",
       "      <th>1</th>\n",
       "      <td>15C01678</td>\n",
       "      <td>1</td>\n",
       "      <td>2018-04-24 17:56:42</td>\n",
       "      <td>13.0</td>\n",
       "      <td>106.682066</td>\n",
       "      <td>10.765734</td>\n",
       "      <td>45.469121</td>\n",
       "      <td>500</td>\n",
       "      <td>8.0</td>\n",
       "      <td>33.819979</td>\n",
       "      <td>14.889869</td>\n",
       "      <td>0</td>\n",
       "      <td>POINT (10.766 106.682)</td>\n",
       "    </tr>\n",
       "    <tr>\n",
       "      <th>2</th>\n",
       "      <td>15C01678</td>\n",
       "      <td>2</td>\n",
       "      <td>2018-04-24 17:56:50</td>\n",
       "      <td>18.0</td>\n",
       "      <td>106.682290</td>\n",
       "      <td>10.765952</td>\n",
       "      <td>43.870221</td>\n",
       "      <td>500</td>\n",
       "      <td>6.0</td>\n",
       "      <td>33.213130</td>\n",
       "      <td>1.598900</td>\n",
       "      <td>0</td>\n",
       "      <td>POINT (10.766 106.682)</td>\n",
       "    </tr>\n",
       "    <tr>\n",
       "      <th>3</th>\n",
       "      <td>15C01678</td>\n",
       "      <td>3</td>\n",
       "      <td>2018-04-24 17:56:56</td>\n",
       "      <td>20.0</td>\n",
       "      <td>106.682498</td>\n",
       "      <td>10.766169</td>\n",
       "      <td>43.404318</td>\n",
       "      <td>500</td>\n",
       "      <td>6.0</td>\n",
       "      <td>35.094524</td>\n",
       "      <td>0.465903</td>\n",
       "      <td>0</td>\n",
       "      <td>POINT (10.766 106.682)</td>\n",
       "    </tr>\n",
       "    <tr>\n",
       "      <th>4</th>\n",
       "      <td>15C01678</td>\n",
       "      <td>4</td>\n",
       "      <td>2018-04-24 17:57:02</td>\n",
       "      <td>22.0</td>\n",
       "      <td>106.682722</td>\n",
       "      <td>10.766400</td>\n",
       "      <td>40.975231</td>\n",
       "      <td>500</td>\n",
       "      <td>5.0</td>\n",
       "      <td>32.605395</td>\n",
       "      <td>2.429086</td>\n",
       "      <td>0</td>\n",
       "      <td>POINT (10.766 106.683)</td>\n",
       "    </tr>\n",
       "    <tr>\n",
       "      <th>...</th>\n",
       "      <td>...</td>\n",
       "      <td>...</td>\n",
       "      <td>...</td>\n",
       "      <td>...</td>\n",
       "      <td>...</td>\n",
       "      <td>...</td>\n",
       "      <td>...</td>\n",
       "      <td>...</td>\n",
       "      <td>...</td>\n",
       "      <td>...</td>\n",
       "      <td>...</td>\n",
       "      <td>...</td>\n",
       "      <td>...</td>\n",
       "    </tr>\n",
       "    <tr>\n",
       "      <th>95</th>\n",
       "      <td>15C01678</td>\n",
       "      <td>28</td>\n",
       "      <td>2018-04-24 18:08:26</td>\n",
       "      <td>31.0</td>\n",
       "      <td>106.673603</td>\n",
       "      <td>10.782137</td>\n",
       "      <td>298.342905</td>\n",
       "      <td>500</td>\n",
       "      <td>4.0</td>\n",
       "      <td>35.423325</td>\n",
       "      <td>0.258614</td>\n",
       "      <td>3</td>\n",
       "      <td>POINT (10.782 106.674)</td>\n",
       "    </tr>\n",
       "    <tr>\n",
       "      <th>96</th>\n",
       "      <td>15C01678</td>\n",
       "      <td>29</td>\n",
       "      <td>2018-04-24 18:08:30</td>\n",
       "      <td>29.0</td>\n",
       "      <td>106.673322</td>\n",
       "      <td>10.782293</td>\n",
       "      <td>299.085772</td>\n",
       "      <td>500</td>\n",
       "      <td>4.0</td>\n",
       "      <td>32.548663</td>\n",
       "      <td>0.742867</td>\n",
       "      <td>3</td>\n",
       "      <td>POINT (10.782 106.673)</td>\n",
       "    </tr>\n",
       "    <tr>\n",
       "      <th>97</th>\n",
       "      <td>15C01678</td>\n",
       "      <td>30</td>\n",
       "      <td>2018-04-24 18:08:34</td>\n",
       "      <td>29.0</td>\n",
       "      <td>106.673057</td>\n",
       "      <td>10.782448</td>\n",
       "      <td>299.790638</td>\n",
       "      <td>500</td>\n",
       "      <td>4.0</td>\n",
       "      <td>33.407999</td>\n",
       "      <td>0.704866</td>\n",
       "      <td>3</td>\n",
       "      <td>POINT (10.782 106.673)</td>\n",
       "    </tr>\n",
       "    <tr>\n",
       "      <th>98</th>\n",
       "      <td>15C01678</td>\n",
       "      <td>31</td>\n",
       "      <td>2018-04-24 18:08:38</td>\n",
       "      <td>29.0</td>\n",
       "      <td>106.672790</td>\n",
       "      <td>10.782584</td>\n",
       "      <td>298.141166</td>\n",
       "      <td>500</td>\n",
       "      <td>8.0</td>\n",
       "      <td>64.508555</td>\n",
       "      <td>1.649472</td>\n",
       "      <td>3</td>\n",
       "      <td>POINT (10.783 106.673)</td>\n",
       "    </tr>\n",
       "    <tr>\n",
       "      <th>99</th>\n",
       "      <td>15C01678</td>\n",
       "      <td>32</td>\n",
       "      <td>2018-04-24 18:08:46</td>\n",
       "      <td>26.0</td>\n",
       "      <td>106.672275</td>\n",
       "      <td>10.782868</td>\n",
       "      <td>298.641368</td>\n",
       "      <td>500</td>\n",
       "      <td>4.0</td>\n",
       "      <td>31.161886</td>\n",
       "      <td>0.500203</td>\n",
       "      <td>3</td>\n",
       "      <td>POINT (10.783 106.672)</td>\n",
       "    </tr>\n",
       "  </tbody>\n",
       "</table>\n",
       "<p>100 rows × 13 columns</p>\n",
       "</div>"
      ],
      "text/plain": [
       "     vehicle  level_1            datetime  speed           y          x  \\\n",
       "0   15C01678        0 2018-04-24 17:56:31    8.0  106.681921  10.765486   \n",
       "1   15C01678        1 2018-04-24 17:56:42   13.0  106.682066  10.765734   \n",
       "2   15C01678        2 2018-04-24 17:56:50   18.0  106.682290  10.765952   \n",
       "3   15C01678        3 2018-04-24 17:56:56   20.0  106.682498  10.766169   \n",
       "4   15C01678        4 2018-04-24 17:57:02   22.0  106.682722  10.766400   \n",
       "..       ...      ...                 ...    ...         ...        ...   \n",
       "95  15C01678       28 2018-04-24 18:08:26   31.0  106.673603  10.782137   \n",
       "96  15C01678       29 2018-04-24 18:08:30   29.0  106.673322  10.782293   \n",
       "97  15C01678       30 2018-04-24 18:08:34   29.0  106.673057  10.782448   \n",
       "98  15C01678       31 2018-04-24 18:08:38   29.0  106.672790  10.782584   \n",
       "99  15C01678       32 2018-04-24 18:08:46   26.0  106.672275  10.782868   \n",
       "\n",
       "       heading  vehicleType  time_interval   distance  heading_interval  Trip  \\\n",
       "0    30.579252          500           11.0  32.364445          0.000000     0   \n",
       "1    45.469121          500            8.0  33.819979         14.889869     0   \n",
       "2    43.870221          500            6.0  33.213130          1.598900     0   \n",
       "3    43.404318          500            6.0  35.094524          0.465903     0   \n",
       "4    40.975231          500            5.0  32.605395          2.429086     0   \n",
       "..         ...          ...            ...        ...               ...   ...   \n",
       "95  298.342905          500            4.0  35.423325          0.258614     3   \n",
       "96  299.085772          500            4.0  32.548663          0.742867     3   \n",
       "97  299.790638          500            4.0  33.407999          0.704866     3   \n",
       "98  298.141166          500            8.0  64.508555          1.649472     3   \n",
       "99  298.641368          500            4.0  31.161886          0.500203     3   \n",
       "\n",
       "                  geometry  \n",
       "0   POINT (10.765 106.682)  \n",
       "1   POINT (10.766 106.682)  \n",
       "2   POINT (10.766 106.682)  \n",
       "3   POINT (10.766 106.682)  \n",
       "4   POINT (10.766 106.683)  \n",
       "..                     ...  \n",
       "95  POINT (10.782 106.674)  \n",
       "96  POINT (10.782 106.673)  \n",
       "97  POINT (10.782 106.673)  \n",
       "98  POINT (10.783 106.673)  \n",
       "99  POINT (10.783 106.672)  \n",
       "\n",
       "[100 rows x 13 columns]"
      ]
     },
     "execution_count": 3,
     "metadata": {},
     "output_type": "execute_result"
    }
   ],
   "source": [
    "geometry = [Point(xy) for xy in zip(df.x, df.y)]\n",
    "# gdf = df.drop(['y', 'x'], axis=1)\n",
    "# gdf = gdf.sort_values('datetime', ascending = True)\n",
    "gdf = GeoDataFrame(df, crs=\"EPSG:4326\", geometry=geometry)\n",
    "\n",
    "gdf['datetime'] = pd.to_datetime(gdf['datetime'])\n",
    "gdf = gdf.sort_values(['vehicle', 'datetime'], ascending=[True, True])\n",
    "gdf.reset_index(drop=True, inplace=True)\n",
    "# show gdf data\n",
    "gdf.head(100)"
   ]
  },
  {
   "cell_type": "markdown",
   "metadata": {},
   "source": [
    "https://www.youtube.com/watch?v=9Q8nEA_0ccg\n",
    "https://github.com/FlorianWilhelm/gps_data_with_python"
   ]
  },
  {
   "cell_type": "markdown",
   "metadata": {},
   "source": [
    "## EXTRACTING POINTS USE `RAMAS-DOUGLAS-PEUCKER` ALGORITHM "
   ]
  },
  {
   "cell_type": "markdown",
   "metadata": {},
   "source": [
    "Extract subset for testing"
   ]
  },
  {
   "cell_type": "code",
   "execution_count": 4,
   "metadata": {},
   "outputs": [],
   "source": [
    "# gdf = gdf[:1000]"
   ]
  },
  {
   "cell_type": "code",
   "execution_count": 5,
   "metadata": {},
   "outputs": [],
   "source": [
    "from rdp import rdp\n",
    "import numpy as np"
   ]
  },
  {
   "cell_type": "markdown",
   "metadata": {},
   "source": [
    "Get list vehicle id"
   ]
  },
  {
   "cell_type": "code",
   "execution_count": 6,
   "metadata": {},
   "outputs": [],
   "source": [
    "''' get_vehicles() params:\n",
    "input:\n",
    "    gdf: geodataframe\n",
    "output:\n",
    "    vehicles: list vehicle id\n",
    "'''\n",
    "def get_trajecs(gdf):\n",
    "    # get list trajecs\n",
    "    trajecs = gdf.drop_duplicates(subset='Trip')['Trip']\n",
    "    trajecs = np.array(trajecs, dtype=object)\n",
    "    \n",
    "    return trajecs"
   ]
  },
  {
   "cell_type": "markdown",
   "metadata": {},
   "source": [
    "Get points for RDP algorithm"
   ]
  },
  {
   "cell_type": "code",
   "execution_count": 7,
   "metadata": {},
   "outputs": [],
   "source": [
    "''' get_points() params:\n",
    "input:\n",
    "    gdf: geodataframe\n",
    "output:\n",
    "    points: list points(x, y)\n",
    "'''\n",
    "def get_points(gdf):\n",
    "    # create vector (n,1) \n",
    "    x_arr = gdf['geometry'].x.to_numpy().T\n",
    "    x_arr = x_arr[:,np.newaxis]\n",
    "    # create vector (n,1) \n",
    "    y_arr = gdf[\"geometry\"].y.to_numpy().T\n",
    "    y_arr = y_arr[:, np.newaxis]\n",
    "    # get points\n",
    "    points = np.concatenate((x_arr,y_arr), axis=1) # axis=1 -> columns effect\n",
    "    \n",
    "    return points"
   ]
  },
  {
   "cell_type": "markdown",
   "metadata": {},
   "source": [
    "Apply RDP algorithm with every single trajectory"
   ]
  },
  {
   "cell_type": "code",
   "execution_count": 8,
   "metadata": {},
   "outputs": [],
   "source": [
    "''' run_rdp() params:\n",
    "gdf: geodataframe\n",
    "epsilon: \n",
    "algo='iter'\n",
    "'''\n",
    "def run_rdp(gdf, eps):\n",
    "    # init empty geodataframe\n",
    "    gdf_rdp = None\n",
    "    # get list trajecs\n",
    "    trajecs = get_trajecs(gdf)\n",
    "    # run RDP with a trajectory\n",
    "    for idx,id in enumerate(trajecs):\n",
    "        subgdf = gdf[gdf['Trip'] == id]\n",
    "        # get points\n",
    "        points = get_points(subgdf)\n",
    "        # ignore trajec has length < 10\n",
    "        if len(points) >= 10:\n",
    "            ''' rdp() params:\n",
    "            arr: numpy array with shape (n,d) where `n` is numbers of points, `d` is their dimension\n",
    "            algo: 2 options \"iter\" for iterative | \"rec\" for recursive \n",
    "            return_mask: `True` or `False`: return mask instead of simplified array, can be use with algo=\"iter\" mode\n",
    "\n",
    "            source: `https://rdp.readthedocs.io/en/latest/?badge=latest` (RDP docs)\n",
    "            '''\n",
    "            mask = rdp(points, epsilon=eps, algo=\"iter\", return_mask=True)\n",
    "            # concat gdf\n",
    "            if idx == 0:\n",
    "                gdf_rdp = subgdf[mask]\n",
    "            else:\n",
    "                gdf_rdp = pd.concat([gdf_rdp, subgdf[mask]])\n",
    "                \n",
    "    return gdf_rdp\n",
    "        "
   ]
  },
  {
   "cell_type": "code",
   "execution_count": 9,
   "metadata": {},
   "outputs": [
    {
     "name": "stdout",
     "output_type": "stream",
     "text": [
      "Wall time: 1min 22s\n"
     ]
    }
   ],
   "source": [
    "%%time\n",
    "gdf_rdp = run_rdp(gdf, eps=0.00001)"
   ]
  },
  {
   "cell_type": "code",
   "execution_count": 10,
   "metadata": {},
   "outputs": [
    {
     "data": {
      "text/plain": [
       "140189"
      ]
     },
     "execution_count": 10,
     "metadata": {},
     "output_type": "execute_result"
    }
   ],
   "source": [
    "len(gdf)"
   ]
  },
  {
   "cell_type": "markdown",
   "metadata": {},
   "source": [
    "## Visualizing data into folium map"
   ]
  },
  {
   "cell_type": "code",
   "execution_count": 11,
   "metadata": {},
   "outputs": [],
   "source": [
    "import folium "
   ]
  },
  {
   "cell_type": "markdown",
   "metadata": {},
   "source": [
    "### helper functions: visualize into folium map"
   ]
  },
  {
   "cell_type": "code",
   "execution_count": 12,
   "metadata": {
    "jupyter": {
     "source_hidden": true
    }
   },
   "outputs": [],
   "source": [
    "colors = [\n",
    "    'red',\n",
    "    'yellow',\n",
    "    'blue',\n",
    "    'lightred',\n",
    "    'orange',\n",
    "    'green',\n",
    "    'lightgreen',\n",
    "    'purple',\n",
    "    'pink']\n",
    "\n",
    "def add_point(mapobj, gdf, colors):\n",
    "    #Nạp x,y từ dataframe vào list coords\n",
    "    coords = list(zip(gdf[\"geometry\"].x, gdf[\"geometry\"].y))\n",
    "    #Hiển thị trên mapobj\n",
    "    for coord in coords:\n",
    "        folium.CircleMarker(location = coord,\n",
    "                            radius = 1.5, \n",
    "                            fill = True,\n",
    "                            fill_opacity = 0.75,\n",
    "                            color = colors,\n",
    "                            weight = 0.01).add_to(mapobj)\n",
    "           \n",
    "def add_lines(mapobj, gdf, color):\n",
    "    coords = list(zip(gdf[\"geometry\"].x, gdf[\"geometry\"].y))\n",
    "    folium.PolyLine(coords, color=color, weight=1, opacity=1).add_to(mapobj)\n",
    "       \n",
    "    \n",
    "'''\n",
    "Hàm hiển thị map.\n",
    "Tùy chọn:\n",
    "- mapobj: bản đồ nền\n",
    "- gdf: geodataframe\n",
    "- start: lộ trình bắt đầu\n",
    "- end: lộ trình kết thúc\n",
    "- mask_type: dạng đường (1) và dạng điểm (0)\n",
    "'''\n",
    "def show_n_route(mapobj, gdf, mask_type):\n",
    "    # Khởi tạo bản đồ mapobj\n",
    "    f = folium.Figure(height = 400)\n",
    "    mapobj.add_to(f)\n",
    "\n",
    "    # Get list trajecs id\n",
    "    trajecs = get_trajecs(gdf)\n",
    "    # Show every single trajec\n",
    "    for idx,id in enumerate(trajecs):\n",
    "        # get sub trajec\n",
    "        subgdf = gdf[gdf['Trip'] == id]\n",
    "\n",
    "        if mask_type == 0:\n",
    "            add_point(mapobj, subgdf, colors[idx % len(colors)])\n",
    "        else:\n",
    "            add_lines(mapobj, subgdf, colors[idx % len(colors)])\n",
    "  \n",
    "    return mapobj"
   ]
  },
  {
   "cell_type": "markdown",
   "metadata": {},
   "source": [
    "### BEFORE APPLYING RDP ALGORITHM"
   ]
  },
  {
   "cell_type": "code",
   "execution_count": null,
   "metadata": {},
   "outputs": [],
   "source": [
    "# map\n",
    "mapobj1 = folium.Map([10.783284, 106.682347], zoom_start = 15, tiles='Cartodb dark_matter')\n",
    "\n",
    "# # show points fisrt\n",
    "# show_n_route(mapobj1, gdf, 0)\n",
    "# show lines\n",
    "show_n_route(mapobj1, gdf, 0)\n"
   ]
  },
  {
   "cell_type": "markdown",
   "metadata": {},
   "source": [
    "### AFTER"
   ]
  },
  {
   "cell_type": "code",
   "execution_count": null,
   "metadata": {},
   "outputs": [],
   "source": [
    "# map\n",
    "mapobj2 = folium.Map([10.783284, 106.682347], zoom_start = 15, tiles='Cartodb dark_matter')\n",
    "\n",
    "# show points fisrt\n",
    "show_n_route(mapobj2, gdf_rdp, 0)\n",
    "# show lines\n",
    "#show_n_route(mapobj2, gdf_rdp, 1)"
   ]
  },
  {
   "cell_type": "markdown",
   "metadata": {},
   "source": [
    "Save output"
   ]
  },
  {
   "cell_type": "code",
   "execution_count": null,
   "metadata": {},
   "outputs": [],
   "source": [
    "fname1 = \"before.html\"\n",
    "mapobj1.save(fname1)"
   ]
  },
  {
   "cell_type": "code",
   "execution_count": null,
   "metadata": {},
   "outputs": [],
   "source": [
    "fname2 = \"after.html\"\n",
    "mapobj2.save(fname2)"
   ]
  },
  {
   "cell_type": "markdown",
   "metadata": {},
   "source": [
    "Saving output"
   ]
  },
  {
   "cell_type": "code",
   "execution_count": null,
   "metadata": {},
   "outputs": [],
   "source": [
    "gdf_rdp.to_csv(\"points_smoothing_rdp.csv\")"
   ]
  },
  {
   "cell_type": "code",
   "execution_count": null,
   "metadata": {},
   "outputs": [],
   "source": [
    "gdf.head()"
   ]
  },
  {
   "cell_type": "code",
   "execution_count": null,
   "metadata": {},
   "outputs": [],
   "source": []
  }
 ],
 "metadata": {
  "kernelspec": {
   "display_name": "Python 3",
   "language": "python",
   "name": "python3"
  },
  "language_info": {
   "codemirror_mode": {
    "name": "ipython",
    "version": 3
   },
   "file_extension": ".py",
   "mimetype": "text/x-python",
   "name": "python",
   "nbconvert_exporter": "python",
   "pygments_lexer": "ipython3",
   "version": "3.9.0"
  }
 },
 "nbformat": 4,
 "nbformat_minor": 4
}
