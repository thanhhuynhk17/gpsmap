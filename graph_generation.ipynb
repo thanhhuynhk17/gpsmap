{
 "cells": [
  {
   "cell_type": "markdown",
   "metadata": {},
   "source": [
    "# SPEED LIMIT EXTRACTION"
   ]
  },
  {
   "cell_type": "code",
   "execution_count": 1,
   "metadata": {},
   "outputs": [],
   "source": [
    "import pandas as pd # To structure and manipulated data in a DataFrame format\n",
    "import geopandas as gpd # To work with spatial data in a DataFrame\n",
    "from geopandas import GeoDataFrame # To create a GeoDataFrame from a DataFrame\n",
    "import numpy as np\n",
    "from shapely.geometry import shape, Point, LineString # To create line geometries that can be used in a GeoDataFrame\n",
    "\n",
    "import matplotlib.pyplot as plt\n",
    "plt.rcParams['axes.xmargin'] = 0.1\n",
    "plt.rcParams['axes.ymargin'] = 0.1\n",
    "%matplotlib inline\n"
   ]
  },
  {
   "cell_type": "markdown",
   "metadata": {},
   "source": [
    "## INPUT DATA"
   ]
  },
  {
   "cell_type": "code",
   "execution_count": 124,
   "metadata": {},
   "outputs": [
    {
     "data": {
      "text/html": [
       "<div>\n",
       "<style scoped>\n",
       "    .dataframe tbody tr th:only-of-type {\n",
       "        vertical-align: middle;\n",
       "    }\n",
       "\n",
       "    .dataframe tbody tr th {\n",
       "        vertical-align: top;\n",
       "    }\n",
       "\n",
       "    .dataframe thead th {\n",
       "        text-align: right;\n",
       "    }\n",
       "</style>\n",
       "<table border=\"1\" class=\"dataframe\">\n",
       "  <thead>\n",
       "    <tr style=\"text-align: right;\">\n",
       "      <th></th>\n",
       "      <th>vehicle</th>\n",
       "      <th>level_1</th>\n",
       "      <th>datetime</th>\n",
       "      <th>speed</th>\n",
       "      <th>y</th>\n",
       "      <th>x</th>\n",
       "      <th>heading</th>\n",
       "      <th>vehicleType</th>\n",
       "      <th>time_interval</th>\n",
       "      <th>distance</th>\n",
       "      <th>heading_interval</th>\n",
       "      <th>trip</th>\n",
       "    </tr>\n",
       "  </thead>\n",
       "  <tbody>\n",
       "    <tr>\n",
       "      <th>0</th>\n",
       "      <td>15C01678</td>\n",
       "      <td>0</td>\n",
       "      <td>2018-04-24 17:56:31</td>\n",
       "      <td>8.0</td>\n",
       "      <td>106.681912</td>\n",
       "      <td>10.765504</td>\n",
       "      <td>0.0</td>\n",
       "      <td>500</td>\n",
       "      <td>0</td>\n",
       "      <td>32.364445</td>\n",
       "      <td>0.000000</td>\n",
       "      <td>0</td>\n",
       "    </tr>\n",
       "    <tr>\n",
       "      <th>1</th>\n",
       "      <td>15C01678</td>\n",
       "      <td>1</td>\n",
       "      <td>2018-04-24 17:56:42</td>\n",
       "      <td>13.0</td>\n",
       "      <td>106.682047</td>\n",
       "      <td>10.765733</td>\n",
       "      <td>1.0</td>\n",
       "      <td>500</td>\n",
       "      <td>11</td>\n",
       "      <td>33.819979</td>\n",
       "      <td>14.889869</td>\n",
       "      <td>0</td>\n",
       "    </tr>\n",
       "    <tr>\n",
       "      <th>2</th>\n",
       "      <td>15C01678</td>\n",
       "      <td>2</td>\n",
       "      <td>2018-04-24 17:56:50</td>\n",
       "      <td>18.0</td>\n",
       "      <td>106.682280</td>\n",
       "      <td>10.765950</td>\n",
       "      <td>2.0</td>\n",
       "      <td>500</td>\n",
       "      <td>8</td>\n",
       "      <td>33.213130</td>\n",
       "      <td>1.598900</td>\n",
       "      <td>0</td>\n",
       "    </tr>\n",
       "    <tr>\n",
       "      <th>3</th>\n",
       "      <td>15C01678</td>\n",
       "      <td>3</td>\n",
       "      <td>2018-04-24 17:56:56</td>\n",
       "      <td>20.0</td>\n",
       "      <td>106.682484</td>\n",
       "      <td>10.766184</td>\n",
       "      <td>3.0</td>\n",
       "      <td>500</td>\n",
       "      <td>6</td>\n",
       "      <td>35.094524</td>\n",
       "      <td>0.465903</td>\n",
       "      <td>0</td>\n",
       "    </tr>\n",
       "    <tr>\n",
       "      <th>4</th>\n",
       "      <td>15C01678</td>\n",
       "      <td>4</td>\n",
       "      <td>2018-04-24 17:57:02</td>\n",
       "      <td>22.0</td>\n",
       "      <td>106.682693</td>\n",
       "      <td>10.766422</td>\n",
       "      <td>4.0</td>\n",
       "      <td>500</td>\n",
       "      <td>6</td>\n",
       "      <td>32.605395</td>\n",
       "      <td>2.429086</td>\n",
       "      <td>0</td>\n",
       "    </tr>\n",
       "  </tbody>\n",
       "</table>\n",
       "</div>"
      ],
      "text/plain": [
       "    vehicle  level_1             datetime  speed           y          x  \\\n",
       "0  15C01678        0  2018-04-24 17:56:31    8.0  106.681912  10.765504   \n",
       "1  15C01678        1  2018-04-24 17:56:42   13.0  106.682047  10.765733   \n",
       "2  15C01678        2  2018-04-24 17:56:50   18.0  106.682280  10.765950   \n",
       "3  15C01678        3  2018-04-24 17:56:56   20.0  106.682484  10.766184   \n",
       "4  15C01678        4  2018-04-24 17:57:02   22.0  106.682693  10.766422   \n",
       "\n",
       "   heading  vehicleType  time_interval   distance  heading_interval  trip  \n",
       "0      0.0          500              0  32.364445          0.000000     0  \n",
       "1      1.0          500             11  33.819979         14.889869     0  \n",
       "2      2.0          500              8  33.213130          1.598900     0  \n",
       "3      3.0          500              6  35.094524          0.465903     0  \n",
       "4      4.0          500              6  32.605395          2.429086     0  "
      ]
     },
     "execution_count": 124,
     "metadata": {},
     "output_type": "execute_result"
    }
   ],
   "source": [
    "df= pd.read_csv('input/improved_smoothing.csv')\n",
    "df.head()"
   ]
  },
  {
   "cell_type": "markdown",
   "metadata": {},
   "source": [
    "**Chuyển sang dạng GeoDataframe:**"
   ]
  },
  {
   "cell_type": "code",
   "execution_count": 125,
   "metadata": {
    "collapsed": true,
    "jupyter": {
     "outputs_hidden": true
    }
   },
   "outputs": [
    {
     "data": {
      "text/plain": [
       "vehicle             97942\n",
       "level_1             97942\n",
       "datetime            97942\n",
       "speed               97942\n",
       "y                   97942\n",
       "x                   97942\n",
       "heading             97942\n",
       "vehicleType         97942\n",
       "time_interval       97942\n",
       "distance            97942\n",
       "heading_interval    97942\n",
       "trip                97942\n",
       "geometry            97942\n",
       "dtype: int64"
      ]
     },
     "execution_count": 125,
     "metadata": {},
     "output_type": "execute_result"
    }
   ],
   "source": [
    "geometry = [Point(xy) for xy in zip(df.x, df.y)]\n",
    "# gdf = df.drop(['y', 'x'], axis=1)\n",
    "# gdf = gdf.sort_values('datetime', ascending = True)\n",
    "gdf = GeoDataFrame(df, crs=\"EPSG:4326\", geometry=geometry)\n",
    "\n",
    "gdf['datetime'] = pd.to_datetime(gdf['datetime'])\n",
    "gdf = gdf.sort_values(['vehicle', 'datetime'], ascending=[True, True])\n",
    "gdf.reset_index(drop=True, inplace=True)\n",
    "# show gdf data\n",
    "gdf.count()"
   ]
  },
  {
   "cell_type": "markdown",
   "metadata": {},
   "source": [
    "## Ý tưởng cơ bản để rút trích đặc trưng tốc độ giới hạn"
   ]
  },
  {
   "cell_type": "markdown",
   "metadata": {},
   "source": [
    "Tài liệu nghiên cứu: <a href=\"https://drive.google.com/file/d/11YQy3dha-8q8LVxZuwwXcyKNcumtYxWh/view\">Automatic Update of Road Attributes by Mining GPS Tracks (page 8)</a>"
   ]
  },
  {
   "cell_type": "markdown",
   "metadata": {},
   "source": [
    "<b>Tốc độ giới hạn được chia làm 3 lớp: low, medium và high.</b>"
   ]
  },
  {
   "cell_type": "markdown",
   "metadata": {},
   "source": [
    "Trong đó tốc độ của các lớp (chia theo luật giao thông VN)"
   ]
  },
  {
   "cell_type": "markdown",
   "metadata": {},
   "source": [
    "| Id | Level    | Value      |\n",
    "|--- |----------| -----------|\n",
    "| 01 | Low      |40, 50, 60  |\n",
    "| 02 | Medium   | 70, 80, 90 |\n",
    "| 03 | High     | 100, 120   |"
   ]
  },
  {
   "cell_type": "markdown",
   "metadata": {},
   "source": [
    "<img src=\"img/speed_limit_level.png\" width=\"500\"> <br> <i>Minh họa chia lớp tốc độ giới hạn</i>"
   ]
  },
  {
   "cell_type": "markdown",
   "metadata": {},
   "source": [
    "Ý tưởng cơ bản là xét từng đoạn đường, lấy vận tốc trung bình để có được tốc độ giới hạn. Nhưng có rất nhiều điểm có vận tốc thấp, vận tốc thay đổi đột ngột làm ảnh hưởng đến quá trình tính toán: dừng đèn đỏ, tắc đường, gặp phải chướng ngại vật,..."
   ]
  },
  {
   "cell_type": "markdown",
   "metadata": {},
   "source": [
    "Để lọc các điểm trên, thay vì dùng đại lượng gia tốc, tác giả đề xuất sử dụng <b>velocity change rate (VCR)</b> tạm dịch <b>tỉ lệ thay đổi vận tốc</b> để tính <b>VCR</b> của 2 điểm liên tiếp nhau. Ý nghĩa của <b>VCR</b> là các điểm có giá trị <b>VCR</b> càng gần 0 thì vật di chuyển ổn định, càng xa 0 thì vật di chuyển bất ổn, thay đổi vận tốc đột ngột."
   ]
  },
  {
   "cell_type": "markdown",
   "metadata": {},
   "source": [
    "<b>Công thức VCR</b>"
   ]
  },
  {
   "cell_type": "markdown",
   "metadata": {},
   "source": [
    "<img src=\"img/vcr_formula.png\" width=\"600\"> <br> Trong đó $$v2, v1$$ là vận tốc tức thời của 2 điểm liên tiếp nhau trên 1 hành trình"
   ]
  },
  {
   "cell_type": "markdown",
   "metadata": {},
   "source": [
    "Từ đó chọn ra những điểm có <b>VCR</b> trong khoảng <b>range</b> = [-0,15:0,15] để chọn làm điểm đại diện dùng cho tính toán. Theo như tác giả thống kê thì các điểm trong khoảng <b>range</b> cho ra kết quả tốt. (<b>range</b> sẽ được thay đổi cho phù hợp với dữ liệu của giao thông VN)."
   ]
  },
  {
   "cell_type": "markdown",
   "metadata": {},
   "source": [
    "Sau khi lọc các điểm không hợp lệ, giá trị vận tốc trung bình có thể được xem như là tốc độ giới hạn của đoạn đường đó."
   ]
  },
  {
   "cell_type": "markdown",
   "metadata": {},
   "source": [
    "<img src=\"img/speed_limit_output.png\" width=\"500\">"
   ]
  },
  {
   "cell_type": "markdown",
   "metadata": {},
   "source": [
    "## Mã giả & Cài đặt thuật toán"
   ]
  },
  {
   "cell_type": "markdown",
   "metadata": {},
   "source": [
    "Bên dưới là mã giả cho thuật toán rút trích đặc trưng tốc độ giới hạn. Chỉ tính toán trên các đoạn có ít nhất 50 mẫu"
   ]
  },
  {
   "cell_type": "markdown",
   "metadata": {},
   "source": [
    "<img src=\"img/speed_limit_algorithm.png\" width=\"800\">"
   ]
  },
  {
   "cell_type": "markdown",
   "metadata": {},
   "source": [
    "### Chọn mẫu test"
   ]
  },
  {
   "cell_type": "code",
   "execution_count": 232,
   "metadata": {},
   "outputs": [
    {
     "data": {
      "text/html": [
       "<div>\n",
       "<style scoped>\n",
       "    .dataframe tbody tr th:only-of-type {\n",
       "        vertical-align: middle;\n",
       "    }\n",
       "\n",
       "    .dataframe tbody tr th {\n",
       "        vertical-align: top;\n",
       "    }\n",
       "\n",
       "    .dataframe thead th {\n",
       "        text-align: right;\n",
       "    }\n",
       "</style>\n",
       "<table border=\"1\" class=\"dataframe\">\n",
       "  <thead>\n",
       "    <tr style=\"text-align: right;\">\n",
       "      <th></th>\n",
       "      <th>level_1</th>\n",
       "      <th>speed</th>\n",
       "      <th>y</th>\n",
       "      <th>x</th>\n",
       "      <th>heading</th>\n",
       "      <th>vehicleType</th>\n",
       "      <th>time_interval</th>\n",
       "      <th>distance</th>\n",
       "      <th>heading_interval</th>\n",
       "    </tr>\n",
       "    <tr>\n",
       "      <th>trip</th>\n",
       "      <th></th>\n",
       "      <th></th>\n",
       "      <th></th>\n",
       "      <th></th>\n",
       "      <th></th>\n",
       "      <th></th>\n",
       "      <th></th>\n",
       "      <th></th>\n",
       "      <th></th>\n",
       "    </tr>\n",
       "  </thead>\n",
       "  <tbody>\n",
       "    <tr>\n",
       "      <th>86</th>\n",
       "      <td>1.5</td>\n",
       "      <td>45.500000</td>\n",
       "      <td>106.685756</td>\n",
       "      <td>10.788072</td>\n",
       "      <td>1.5</td>\n",
       "      <td>600.0</td>\n",
       "      <td>17.500000</td>\n",
       "      <td>206.139318</td>\n",
       "      <td>2.057710</td>\n",
       "    </tr>\n",
       "    <tr>\n",
       "      <th>103</th>\n",
       "      <td>1.0</td>\n",
       "      <td>42.666667</td>\n",
       "      <td>106.696150</td>\n",
       "      <td>10.780215</td>\n",
       "      <td>1.0</td>\n",
       "      <td>300.0</td>\n",
       "      <td>300.666667</td>\n",
       "      <td>170.519443</td>\n",
       "      <td>47.484193</td>\n",
       "    </tr>\n",
       "    <tr>\n",
       "      <th>157</th>\n",
       "      <td>1.0</td>\n",
       "      <td>42.000000</td>\n",
       "      <td>106.690288</td>\n",
       "      <td>10.786211</td>\n",
       "      <td>1.0</td>\n",
       "      <td>700.0</td>\n",
       "      <td>43.333333</td>\n",
       "      <td>188.184438</td>\n",
       "      <td>1.143009</td>\n",
       "    </tr>\n",
       "    <tr>\n",
       "      <th>160</th>\n",
       "      <td>1.0</td>\n",
       "      <td>46.333333</td>\n",
       "      <td>106.666648</td>\n",
       "      <td>10.767474</td>\n",
       "      <td>1.0</td>\n",
       "      <td>700.0</td>\n",
       "      <td>30.000000</td>\n",
       "      <td>219.280574</td>\n",
       "      <td>0.414363</td>\n",
       "    </tr>\n",
       "    <tr>\n",
       "      <th>205</th>\n",
       "      <td>3.0</td>\n",
       "      <td>46.571429</td>\n",
       "      <td>106.685159</td>\n",
       "      <td>10.788672</td>\n",
       "      <td>3.0</td>\n",
       "      <td>300.0</td>\n",
       "      <td>10.142857</td>\n",
       "      <td>135.854525</td>\n",
       "      <td>15.662342</td>\n",
       "    </tr>\n",
       "    <tr>\n",
       "      <th>...</th>\n",
       "      <td>...</td>\n",
       "      <td>...</td>\n",
       "      <td>...</td>\n",
       "      <td>...</td>\n",
       "      <td>...</td>\n",
       "      <td>...</td>\n",
       "      <td>...</td>\n",
       "      <td>...</td>\n",
       "      <td>...</td>\n",
       "    </tr>\n",
       "    <tr>\n",
       "      <th>14608</th>\n",
       "      <td>2.0</td>\n",
       "      <td>40.800000</td>\n",
       "      <td>106.684970</td>\n",
       "      <td>10.768922</td>\n",
       "      <td>2.0</td>\n",
       "      <td>700.0</td>\n",
       "      <td>16.000000</td>\n",
       "      <td>129.909895</td>\n",
       "      <td>1.110681</td>\n",
       "    </tr>\n",
       "    <tr>\n",
       "      <th>14641</th>\n",
       "      <td>3.0</td>\n",
       "      <td>42.000000</td>\n",
       "      <td>106.676930</td>\n",
       "      <td>10.773578</td>\n",
       "      <td>3.0</td>\n",
       "      <td>300.0</td>\n",
       "      <td>17.142857</td>\n",
       "      <td>152.355226</td>\n",
       "      <td>12.037392</td>\n",
       "    </tr>\n",
       "    <tr>\n",
       "      <th>14656</th>\n",
       "      <td>1.0</td>\n",
       "      <td>44.000000</td>\n",
       "      <td>106.696492</td>\n",
       "      <td>10.789303</td>\n",
       "      <td>1.0</td>\n",
       "      <td>0.0</td>\n",
       "      <td>13.000000</td>\n",
       "      <td>128.146678</td>\n",
       "      <td>0.875925</td>\n",
       "    </tr>\n",
       "    <tr>\n",
       "      <th>14662</th>\n",
       "      <td>2.0</td>\n",
       "      <td>43.600000</td>\n",
       "      <td>106.666461</td>\n",
       "      <td>10.767246</td>\n",
       "      <td>2.0</td>\n",
       "      <td>600.0</td>\n",
       "      <td>937.000000</td>\n",
       "      <td>126.316788</td>\n",
       "      <td>41.685646</td>\n",
       "    </tr>\n",
       "    <tr>\n",
       "      <th>14701</th>\n",
       "      <td>1.5</td>\n",
       "      <td>47.750000</td>\n",
       "      <td>106.683683</td>\n",
       "      <td>10.789971</td>\n",
       "      <td>1.5</td>\n",
       "      <td>300.0</td>\n",
       "      <td>12.500000</td>\n",
       "      <td>137.386453</td>\n",
       "      <td>0.549635</td>\n",
       "    </tr>\n",
       "  </tbody>\n",
       "</table>\n",
       "<p>625 rows × 9 columns</p>\n",
       "</div>"
      ],
      "text/plain": [
       "       level_1      speed           y          x  heading  vehicleType  \\\n",
       "trip                                                                     \n",
       "86         1.5  45.500000  106.685756  10.788072      1.5        600.0   \n",
       "103        1.0  42.666667  106.696150  10.780215      1.0        300.0   \n",
       "157        1.0  42.000000  106.690288  10.786211      1.0        700.0   \n",
       "160        1.0  46.333333  106.666648  10.767474      1.0        700.0   \n",
       "205        3.0  46.571429  106.685159  10.788672      3.0        300.0   \n",
       "...        ...        ...         ...        ...      ...          ...   \n",
       "14608      2.0  40.800000  106.684970  10.768922      2.0        700.0   \n",
       "14641      3.0  42.000000  106.676930  10.773578      3.0        300.0   \n",
       "14656      1.0  44.000000  106.696492  10.789303      1.0          0.0   \n",
       "14662      2.0  43.600000  106.666461  10.767246      2.0        600.0   \n",
       "14701      1.5  47.750000  106.683683  10.789971      1.5        300.0   \n",
       "\n",
       "       time_interval    distance  heading_interval  \n",
       "trip                                                \n",
       "86         17.500000  206.139318          2.057710  \n",
       "103       300.666667  170.519443         47.484193  \n",
       "157        43.333333  188.184438          1.143009  \n",
       "160        30.000000  219.280574          0.414363  \n",
       "205        10.142857  135.854525         15.662342  \n",
       "...              ...         ...               ...  \n",
       "14608      16.000000  129.909895          1.110681  \n",
       "14641      17.142857  152.355226         12.037392  \n",
       "14656      13.000000  128.146678          0.875925  \n",
       "14662     937.000000  126.316788         41.685646  \n",
       "14701      12.500000  137.386453          0.549635  \n",
       "\n",
       "[625 rows x 9 columns]"
      ]
     },
     "execution_count": 232,
     "metadata": {},
     "output_type": "execute_result"
    }
   ],
   "source": [
    "group = gdf.groupby('trip')\n",
    "group.mean()[group.speed.mean() > 40]"
   ]
  },
  {
   "cell_type": "code",
   "execution_count": 233,
   "metadata": {},
   "outputs": [],
   "source": [
    "# gdftest = gdf[gdf.trip == 236]\n",
    "gdftest = gdf[gdf.trip == 205]"
   ]
  },
  {
   "cell_type": "markdown",
   "metadata": {},
   "source": [
    "### Hàm lọc các điểm không hợp lệ"
   ]
  },
  {
   "cell_type": "code",
   "execution_count": 234,
   "metadata": {},
   "outputs": [],
   "source": [
    "'''\n",
    "Mô tả: VRC_filter() lọc và bỏ các điểm có VCR nằm ngoài đoạn [0 : threshold] của 1 trip\n",
    "input:\n",
    "    gdf: geodataframe, 1 trip\n",
    "    threshold: integer, default 0.15\n",
    "output:\n",
    "    trip_filtered: geodataframe\n",
    "'''\n",
    "def vcr_filter(gdf, threshold=0.1):\n",
    "    filter = []\n",
    "    \n",
    "    counter = 0\n",
    "    # init v0 for first calculation vcrate = (v_(i+1) - v_i)/v_i\n",
    "    v0 = gdf.iloc[0].speed\n",
    "    for idx, row in gdf.iterrows():\n",
    "        v1 = row.speed\n",
    "        vcrate = abs(v1 - v0) / v0\n",
    "        # drop point has lower velocity if vcr out of range = [0 : threshold]\n",
    "        if vcrate > threshold:\n",
    "            if v0 < v1: # drop v0\n",
    "                filter.append(gdftest.index.values[counter-1])\n",
    "            elif v0 >= v1:\n",
    "                filter.append(idx)\n",
    "        # update counter\n",
    "        counter = counter + 1\n",
    "        # update v0\n",
    "        v0 = v1\n",
    "    print(f'speed: {gdf.speed}')\n",
    "    print (f'filter: {list(set(filter))}')\n",
    "    print(f'drop numbers: {np.count_nonzero(list(set(filter)))}')\n",
    "    return list(set(filter))\n",
    "# test"
   ]
  },
  {
   "cell_type": "code",
   "execution_count": 235,
   "metadata": {},
   "outputs": [
    {
     "name": "stdout",
     "output_type": "stream",
     "text": [
      "speed: 1464    28.0\n",
      "1465    42.0\n",
      "1466    43.0\n",
      "1467    47.0\n",
      "1468    59.0\n",
      "1469    57.0\n",
      "1470    50.0\n",
      "Name: speed, dtype: float64\n",
      "filter: [1464, 1467, 1470]\n",
      "drop numbers: 3\n"
     ]
    }
   ],
   "source": [
    "# get filter row array\n",
    "gdf_filter = vcr_filter(gdftest)"
   ]
  },
  {
   "cell_type": "code",
   "execution_count": 236,
   "metadata": {},
   "outputs": [],
   "source": [
    "gdf_dropped = gdftest.drop(gdf_filter)"
   ]
  },
  {
   "cell_type": "markdown",
   "metadata": {},
   "source": [
    "### Dùng <b>VCR</b> lọc các điểm không hợp lệ "
   ]
  },
  {
   "cell_type": "code",
   "execution_count": 237,
   "metadata": {},
   "outputs": [
    {
     "data": {
      "text/plain": [
       "<matplotlib.legend.Legend at 0x1d6c3e00f10>"
      ]
     },
     "execution_count": 237,
     "metadata": {},
     "output_type": "execute_result"
    },
    {
     "data": {
      "image/png": "[encoded data removed]",
      "text/plain": [
       "<Figure size 1440x720 with 1 Axes>"
      ]
     },
     "metadata": {
      "needs_background": "light"
     },
     "output_type": "display_data"
    }
   ],
   "source": [
    "x = np.arange(gdftest.speed.count())\n",
    "y = gdftest.speed.ravel()\n",
    "y2 = gdf_dropped.speed.ravel()\n",
    "plt.figure(figsize=(20,10))\n",
    "# plot before\n",
    "plt.plot(x, y)\n",
    "plt.plot(x, y, 'o')\n",
    "# plot after\n",
    "x2 = np.arange(gdf_dropped.speed.count())\n",
    "plt.plot(x2, y2)\n",
    "plt.plot(x2, y2, 'o')\n",
    "plt.legend(['before filtering', 'before points', 'after filtering', 'after points'])"
   ]
  },
  {
   "cell_type": "markdown",
   "metadata": {},
   "source": [
    "### Tốc độ trung bình trước và sau khi lọc bỏ bớt điểm"
   ]
  },
  {
   "cell_type": "markdown",
   "metadata": {},
   "source": [
    "Trước"
   ]
  },
  {
   "cell_type": "code",
   "execution_count": 238,
   "metadata": {},
   "outputs": [
    {
     "data": {
      "text/plain": [
       "46.57142857142857"
      ]
     },
     "execution_count": 238,
     "metadata": {},
     "output_type": "execute_result"
    }
   ],
   "source": [
    "gdftest.speed.mean()"
   ]
  },
  {
   "cell_type": "markdown",
   "metadata": {},
   "source": [
    "Sau"
   ]
  },
  {
   "cell_type": "code",
   "execution_count": 239,
   "metadata": {},
   "outputs": [
    {
     "data": {
      "text/plain": [
       "50.25"
      ]
     },
     "execution_count": 239,
     "metadata": {},
     "output_type": "execute_result"
    }
   ],
   "source": [
    "gdf_dropped.speed.mean()"
   ]
  },
  {
   "cell_type": "markdown",
   "metadata": {},
   "source": [
    "## Trực quan hóa dữ liệu lên bản đồ"
   ]
  },
  {
   "cell_type": "code",
   "execution_count": 240,
   "metadata": {},
   "outputs": [],
   "source": [
    "import folium"
   ]
  },
  {
   "cell_type": "markdown",
   "metadata": {},
   "source": [
    "### helper functions: visualize into folium map"
   ]
  },
  {
   "cell_type": "code",
   "execution_count": 241,
   "metadata": {},
   "outputs": [],
   "source": [
    "\n",
    "''' get_vehicles() params:\n",
    "input:\n",
    "    gdf: geodataframe\n",
    "output:\n",
    "    vehicles: list vehicle id\n",
    "'''\n",
    "def get_trajecs(gdf):\n",
    "    # get list trajecs\n",
    "    trajecs = gdf.drop_duplicates(subset='trip')['trip']\n",
    "    trajecs = np.array(trajecs, dtype=object)\n",
    "    \n",
    "    return trajecs"
   ]
  },
  {
   "cell_type": "code",
   "execution_count": 242,
   "metadata": {},
   "outputs": [],
   "source": [
    "colors = [\n",
    "    'red',\n",
    "    'yellow',\n",
    "    'blue',\n",
    "    'lightred',\n",
    "    'orange',\n",
    "    'green',\n",
    "    'lightgreen',\n",
    "    'purple',\n",
    "    'pink']\n",
    "\n",
    "def add_point(mapobj, gdf, colors):\n",
    "    #Nạp x,y từ dataframe vào list coords\n",
    "    coords = list(zip(gdf[\"geometry\"].x, gdf[\"geometry\"].y))\n",
    "    #Hiển thị trên mapobj\n",
    "    for coord in coords:\n",
    "        folium.CircleMarker(location = coord,\n",
    "                            radius = 1.5, \n",
    "                            fill = True,\n",
    "                            fill_opacity = 0.75,\n",
    "                            color = colors,\n",
    "                            weight = 0.01).add_to(mapobj)\n",
    "           \n",
    "def add_lines(mapobj, gdf, color):\n",
    "    coords = list(zip(gdf[\"geometry\"].x, gdf[\"geometry\"].y))\n",
    "    folium.PolyLine(coords, color=color, weight=1, opacity=1).add_to(mapobj)\n",
    "       \n",
    "    \n",
    "'''\n",
    "Hàm hiển thị map.\n",
    "Tùy chọn:\n",
    "- mapobj: bản đồ nền\n",
    "- gdf: geodataframe\n",
    "- start: lộ trình bắt đầu\n",
    "- end: lộ trình kết thúc\n",
    "- mask_type: dạng đường (1) và dạng điểm (0)\n",
    "'''\n",
    "def show_n_route(mapobj, gdf, mask_type):\n",
    "    # Khởi tạo bản đồ mapobj\n",
    "    f = folium.Figure(height = 600)\n",
    "    mapobj.add_to(f)\n",
    "\n",
    "    # Get list trajecs id\n",
    "    trajecs = get_trajecs(gdf)\n",
    "    # Show every single trajec\n",
    "    for idx,id in enumerate(trajecs):\n",
    "        # get sub trajec\n",
    "        subgdf = gdf[gdf['trip'] == id]\n",
    "\n",
    "        if mask_type == 0:\n",
    "            add_point(mapobj, subgdf, colors[idx % len(colors)])\n",
    "        else:\n",
    "            add_lines(mapobj, subgdf, colors[idx % len(colors)])\n",
    "  \n",
    "    return mapobj"
   ]
  },
  {
   "cell_type": "markdown",
   "metadata": {},
   "source": [
    "### BEFORE APPLYING RDP ALGORITHM"
   ]
  },
  {
   "cell_type": "code",
   "execution_count": 243,
   "metadata": {},
   "outputs": [
    {
     "data": {
      "text/html": [
       "<iframe src=\"about:blank\" width=\"100%\" height=\"600\"style=\"border:none !important;\" data-html=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 onload=\"this.contentDocument.open();this.contentDocument.write(atob(this.getAttribute('data-html')));this.contentDocument.close();\" \"allowfullscreen\" \"webkitallowfullscreen\" \"mozallowfullscreen\"></iframe>"
      ],
      "text/plain": [
       "<folium.folium.Map at 0x1d6af9fbf40>"
      ]
     },
     "execution_count": 243,
     "metadata": {},
     "output_type": "execute_result"
    }
   ],
   "source": [
    "# map\n",
    "mapobj1 = folium.Map([10.783284, 106.682347], zoom_start = 15, tiles='Cartodb dark_matter')\n",
    "\n",
    "# show lines fisrt\n",
    "show_n_route(mapobj1, gdftest, 1)\n",
    "# show points \n",
    "show_n_route(mapobj1, gdftest, 0)\n"
   ]
  },
  {
   "cell_type": "markdown",
   "metadata": {},
   "source": [
    "### AFTER"
   ]
  },
  {
   "cell_type": "code",
   "execution_count": 244,
   "metadata": {},
   "outputs": [
    {
     "data": {
      "text/html": [
       "<iframe src=\"about:blank\" width=\"100%\" height=\"600\"style=\"border:none !important;\" data-html=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 onload=\"this.contentDocument.open();this.contentDocument.write(atob(this.getAttribute('data-html')));this.contentDocument.close();\" \"allowfullscreen\" \"webkitallowfullscreen\" \"mozallowfullscreen\"></iframe>"
      ],
      "text/plain": [
       "<folium.folium.Map at 0x1d6af9f5100>"
      ]
     },
     "execution_count": 244,
     "metadata": {},
     "output_type": "execute_result"
    }
   ],
   "source": [
    "# map\n",
    "mapobj2 = folium.Map([10.783284, 106.682347], zoom_start = 15, tiles='Cartodb dark_matter')\n",
    "\n",
    "# show lines fisrt\n",
    "show_n_route(mapobj2, gdf_dropped, 1)\n",
    "# show points \n",
    "show_n_route(mapobj2, gdf_dropped, 0)\n"
   ]
  },
  {
   "cell_type": "markdown",
   "metadata": {},
   "source": [
    "Saving output"
   ]
  }
 ],
 "metadata": {
  "kernelspec": {
   "display_name": "Python 3",
   "language": "python",
   "name": "python3"
  },
  "language_info": {
   "codemirror_mode": {
    "name": "ipython",
    "version": 3
   },
   "file_extension": ".py",
   "mimetype": "text/x-python",
   "name": "python",
   "nbconvert_exporter": "python",
   "pygments_lexer": "ipython3",
   "version": "3.8.6"
  }
 },
 "nbformat": 4,
 "nbformat_minor": 4
}
