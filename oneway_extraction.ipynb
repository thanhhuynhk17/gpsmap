{
 "cells": [
  {
   "cell_type": "markdown",
   "metadata": {},
   "source": [
    "# ONEWAY EXTRACTION"
   ]
  },
  {
   "cell_type": "code",
   "execution_count": null,
   "metadata": {},
   "outputs": [],
   "source": [
    "import numpy as np\n",
    "\n",
    "import pandas as pd # To structure and manipulated data in a DataFrame format\n",
    "import geopandas as gpd # To work with spatial data in a DataFrame\n",
    "from geopandas import GeoDataFrame # To create a GeoDataFrame from a DataFrame\n",
    "\n",
    "import shapely\n",
    "from shapely.geometry import shape, Point, LineString # To create line geometries that can be used in a GeoDataFrame\n",
    "\n",
    "from geographiclib.geodesic import Geodesic\n",
    "\n",
    "#Thư viện quy đổi tọa độ -> met\n",
    "from haversine import haversine, Unit\n",
    "import matplotlib.pyplot as plt\n",
    "plt.rcParams['axes.xmargin'] = 0.1\n",
    "plt.rcParams['axes.ymargin'] = 0.1\n",
    "%matplotlib inline\n"
   ]
  },
  {
   "cell_type": "markdown",
   "metadata": {},
   "source": [
    "# INPUT DATA"
   ]
  },
  {
   "cell_type": "code",
   "execution_count": null,
   "metadata": {},
   "outputs": [],
   "source": [
    "day26 = 'data_pre_day26.csv'\n",
    "day27 = 'data_pre.csv'\n",
    "day_old = 'improved_preprocessing.csv'\n",
    "day = day27\n",
    "df= pd.read_csv(f'input/{day}')\n",
    "df_lines = pd.read_csv('input/multipoint_new.csv')"
   ]
  },
  {
   "cell_type": "markdown",
   "metadata": {},
   "source": [
    "### Add column: trip "
   ]
  },
  {
   "cell_type": "code",
   "execution_count": null,
   "metadata": {},
   "outputs": [],
   "source": [
    "def add_trip_number(df):\n",
    "    arr = df.loc[:, 'level_1'].values\n",
    "    indices = np.where(arr == 0)[0]\n",
    "    indices = np.append(indices, [len(df)])\n",
    "    max_size = np.amax(np.diff(indices))\n",
    "    duplicate_idx = np.repeat(indices, 2)[1:-1].reshape(-1, 2)\n",
    "\n",
    "    def add_number(x):\n",
    "        idx = np.where(indices == x[0])[0]\n",
    "        result = np.full((x[1] - x[0],), idx)\n",
    "        result = np.pad(result, (0, max_size - len(result)), 'constant', constant_values=-1)\n",
    "        return result\n",
    "\n",
    "    trip_number_result = np.apply_along_axis(add_number, 1, duplicate_idx)\n",
    "    trip_number_result = trip_number_result[trip_number_result != -1]\n",
    "    df['trip'] = trip_number_result\n",
    "    return df"
   ]
  },
  {
   "cell_type": "code",
   "execution_count": null,
   "metadata": {},
   "outputs": [],
   "source": [
    "def add_heading(df):\n",
    "    def calculate_heading(df):\n",
    "        heading_list = []\n",
    "        for i in df.index.tolist()[:-1]:\n",
    "            heading = Geodesic.WGS84.Inverse(df.y[i], df.x[i], df.y[i + 1], df.x[i + 1])['azi1'] % 360\n",
    "            heading_list.append(heading)\n",
    "        heading_list.append(heading)\n",
    "        return heading_list\n",
    "    \n",
    "    heading_list = []\n",
    "    for i in df.trip.unique():\n",
    "        heading_list.extend(calculate_heading(df.loc[df.trip == i]))\n",
    "    \n",
    "    df['heading'] = heading_list\n",
    "    return df"
   ]
  },
  {
   "cell_type": "code",
   "execution_count": null,
   "metadata": {},
   "outputs": [],
   "source": [
    "# rename x, y cols\n",
    "df.rename({'x':'y', 'y':'x'}, axis=1, inplace=True)\n",
    "# rename label col\n",
    "df_lines.rename({'label': 'trip'}, axis=1, inplace=True)\n",
    "\n",
    "add_trip_number(df)\n",
    "add_heading(df_lines)"
   ]
  },
  {
   "cell_type": "code",
   "execution_count": null,
   "metadata": {},
   "outputs": [],
   "source": [
    "df.describe()"
   ]
  },
  {
   "cell_type": "markdown",
   "metadata": {},
   "source": [
    "### Format DF"
   ]
  },
  {
   "cell_type": "code",
   "execution_count": null,
   "metadata": {},
   "outputs": [],
   "source": [
    "# geometry = [Point(xy) for xy in zip(df.x, df.y)]\n",
    "# # gdf = df.drop(['y', 'x'], axis=1)\n",
    "# # gdf = gdf.sort_values('datetime', ascending = True)\n",
    "# gdf = GeoDataFrame(df, crs=\"EPSG:4326\", geometry=geometry)\n",
    "\n",
    "# drop columns\n",
    "df.drop(['level_1','speed','vehicletype', 'time_interval','distance'], axis=1, inplace=True)"
   ]
  },
  {
   "cell_type": "code",
   "execution_count": null,
   "metadata": {},
   "outputs": [],
   "source": [
    "df['datetime'] = pd.to_datetime(df['datetime'])\n",
    "df = df.sort_values(['vehicle', 'datetime'], ascending=[True, True])\n",
    "df.reset_index(drop=True, inplace=True)\n",
    "df['heading_interval'] = 0"
   ]
  },
  {
   "cell_type": "markdown",
   "metadata": {},
   "source": [
    "## Test data"
   ]
  },
  {
   "cell_type": "code",
   "execution_count": null,
   "metadata": {},
   "outputs": [],
   "source": [
    "df_test = df.copy()"
   ]
  },
  {
   "cell_type": "code",
   "execution_count": null,
   "metadata": {},
   "outputs": [],
   "source": [
    "df_test.head()"
   ]
  },
  {
   "cell_type": "markdown",
   "metadata": {},
   "source": [
    "# EXTRACTING ONEWAY ATTRIBUTE BY HEADING"
   ]
  },
  {
   "cell_type": "markdown",
   "metadata": {},
   "source": [
    "<img src=\"img/oneway_extraction_alg.png\" />"
   ]
  },
  {
   "cell_type": "markdown",
   "metadata": {},
   "source": [
    "Source: <a href=\"https://drive.google.com/file/d/1gJY6XpEbzMk6-yuhgRB8D9Vd7anJq4Pf/view\">\n",
    "    Automatically Deriving and Updating Attribute Road Data from Movement Trajectories (chapter 5)\n",
    "    <a/>"
   ]
  },
  {
   "cell_type": "markdown",
   "metadata": {},
   "source": [
    "## helper functions: get trajec's center point & find nearest points  "
   ]
  },
  {
   "cell_type": "markdown",
   "metadata": {},
   "source": [
    "Get trajecs center point"
   ]
  },
  {
   "cell_type": "code",
   "execution_count": null,
   "metadata": {},
   "outputs": [],
   "source": [
    "''' get_center_point() params:\n",
    "input:\n",
    "    gdf_single_trajec: geodataframe - a single trajectory\n",
    "output:\n",
    "    center_point: geodataframe - a single point\n",
    "'''\n",
    "def get_center_point(gdf_single_trajec):\n",
    "    trajec_len = len(gdf_single_trajec)\n",
    "    center = int(trajec_len/2)\n",
    "    # get center point gdf\n",
    "    center_point = gdf_single_trajec.iloc[center]\n",
    "    \n",
    "    return center_point"
   ]
  },
  {
   "cell_type": "markdown",
   "metadata": {},
   "source": [
    "Find all points around center point"
   ]
  },
  {
   "cell_type": "code",
   "execution_count": null,
   "metadata": {},
   "outputs": [],
   "source": [
    "''' find_nearest_point() params:\n",
    "input:\n",
    "    center_point: geodataframe - a single point\n",
    "    df: dataframe - graph data\n",
    "    eps: meter - radius (50m as default)\n",
    "output:\n",
    "    gdf_cluster: geodataframe - a group of point nearest center point\n",
    "'''\n",
    "def find_nearest_point(center_point, df, kd, eps=10):\n",
    "    # extract cluster labeled\n",
    "    nearest_pts_id = kd.query_ball_point((center_point.x, center_point.y),eps*10**-3)\n",
    "    df_cluster = df.iloc[nearest_pts_id].copy()\n",
    "    \n",
    "#     # filter center point in df\n",
    "#     center_point = (center_point.x, center_point.y)\n",
    "#     df_cluster['haversine_dis'] = df_cluster.apply(lambda f: int(haversine((f.x, f.y), center_point, unit=Unit.METERS)), axis=1)\n",
    "#     df_cluster = df_cluster[df_cluster.haversine_dis <= eps]\n",
    "    return df_cluster\n",
    "\n",
    "\n",
    "\n",
    " \n"
   ]
  },
  {
   "cell_type": "markdown",
   "metadata": {},
   "source": [
    "Add column: Heading interval"
   ]
  },
  {
   "cell_type": "code",
   "execution_count": null,
   "metadata": {},
   "outputs": [],
   "source": [
    "''' add_heading_interval() params:\n",
    "input:\n",
    "    df_cluster: dataframe - a group of point nearest center point\n",
    "    center_point: geodataframe - a single point\n",
    "output:\n",
    "    df_cluster: dataframe - add heading_interval column\n",
    "'''\n",
    "def add_heading_interval(df_cluster, center_point):\n",
    "    df_cluster['heading_interval'] = df_cluster.heading.apply(lambda heading: abs(center_point.heading-heading) % 360 ) \n",
    "    return df_cluster"
   ]
  },
  {
   "cell_type": "markdown",
   "metadata": {},
   "source": [
    "## Attribute Extraction of \"oneway\" implement"
   ]
  },
  {
   "cell_type": "code",
   "execution_count": null,
   "metadata": {},
   "outputs": [],
   "source": [
    "''' detect_oneway() params:\n",
    "input:\n",
    "    gdf: geodataframe - all data\n",
    "    trip_id: geodataframe - a sub gdf represent for a trip\n",
    "    trips: list trip id\n",
    "output:\n",
    "    tag = 1, tag = -1 -> oneway\n",
    "    tag = 0 -> no\n",
    "    tag = -2 -> can't detect\n",
    "'''\n",
    "def detect_oneway(gdf, gdf_lines, kd, trip_id):\n",
    "    tag = -2 # tag for\n",
    "    # select trip from trip_id\n",
    "    gdf_trip = gdf_lines[gdf_lines.trip == trip_id]    \n",
    "    # SELECT RELATIVE DIRECTION FOR CLUSTER\n",
    "    center_point = get_center_point(gdf_trip) # get mid point of a trip\n",
    "    df_cluster = find_nearest_point(center_point, gdf, kd, eps=8)\n",
    "    if df_cluster.empty:\n",
    "        return tag, df_cluster     # return if cluster is empty\n",
    "    df_cluster.drop_duplicates(subset=['trip'], inplace=True) # drop trip duplicates\n",
    "    \n",
    "    cluster_size = len(df_cluster)\n",
    "    # ignore cluster if the size is less than 10 points\n",
    "    size_thresh = 5\n",
    "    if cluster_size >= size_thresh:\n",
    "        print(f'> {size_thresh}')\n",
    "        # add heading_interval\n",
    "        add_heading_interval(df_cluster, center_point)\n",
    "        print(f'heading {center_point.heading}')\n",
    "        # \n",
    "        radian_thresh = 40\n",
    "        similar = len(df_cluster.loc[(df_cluster.heading_interval <= radian_thresh) | (df_cluster.heading_interval >= (360-radian_thresh))])\n",
    "        opposite = len(df_cluster.loc[(df_cluster.heading_interval >= (180-radian_thresh)) & (df_cluster.heading_interval <= (180+radian_thresh))])\n",
    "        total = len(df_cluster)\n",
    "        print(f'similar: {similar}')\n",
    "        print(f'opposite: {opposite}')\n",
    "        print(f'total: {total}')\n",
    "\n",
    "        # tag = 1, tag = -1 -> oneway\n",
    "        # tag = 0 -> no\n",
    "        rate_thresh = 0.85\n",
    "        if similar == 0 and opposite == 0:\n",
    "            pass\n",
    "        elif similar/total > rate_thresh:\n",
    "            tag = 1\n",
    "        elif opposite/total > rate_thresh:\n",
    "            tag = -1\n",
    "        else:\n",
    "            tag = 0\n",
    "    else:\n",
    "        print(f'< {size_thresh}')\n",
    "    return tag, df_cluster"
   ]
  },
  {
   "cell_type": "markdown",
   "metadata": {},
   "source": [
    "## ONEWAY EXTRACTION"
   ]
  },
  {
   "cell_type": "code",
   "execution_count": null,
   "metadata": {
    "jupyter": {
     "source_hidden": true
    }
   },
   "outputs": [],
   "source": [
    "# ## TEST 1 TRIP\n",
    "# trip_id =106\n",
    "# df_trip = df_lines[df_lines.trip == trip_id]    \n",
    "# center_point = get_center_point(df_trip) # get mid point of a trip\n",
    "\n",
    "# radius = 10*10**-3\n",
    "# # df_test['geometry'] = list(zip(df_test.x, df_test.y))\n",
    "# pts = list(zip(df_test.x, df_test.y))\n",
    "\n",
    "# kd = KDTree(pts, distance_metric='Arc', radius = pysal.cg.sphere.RADIUS_EARTH_KM)\n",
    "# id_nearest_point = kd.query_ball_point((center_point.x, center_point.y),radius)\n",
    "# id_nearest_point\n",
    "# df_cluster = df_test.iloc[id_nearest_point]\n",
    "# df_cluster \n",
    "\n",
    "# # map\n",
    "# mapobj_oneway = folium.Map([10.783284, 106.682347], zoom_start = 15, tiles='Cartodb dark_matter')\n",
    "# '''\n",
    "# tag = 1 (yellow):  same direction with trip_id\n",
    "# tag = -1 (pink): opposite direction\n",
    "# tag = 0 (red): at least 2 way\n",
    "# '''\n",
    "# # test 1 trip\n",
    "# show_n_route(mapobj_oneway, df_lines[df_lines.trip == trip_id],1)\n",
    "# show_n_route(mapobj_oneway, df_cluster,0)\n"
   ]
  },
  {
   "cell_type": "code",
   "execution_count": null,
   "metadata": {},
   "outputs": [],
   "source": [
    "from pysal.cg.kdtree import KDTree\n",
    "import pysal"
   ]
  },
  {
   "cell_type": "code",
   "execution_count": null,
   "metadata": {},
   "outputs": [],
   "source": [
    "# add oneway col\n",
    "df_test['oneway'] = -2\n",
    "# get list trajecs\n",
    "trips = list(df_lines.trip.unique())\n",
    "len(trips)"
   ]
  },
  {
   "cell_type": "code",
   "execution_count": null,
   "metadata": {},
   "outputs": [],
   "source": [
    "%%time\n",
    "radius = 10*10**-3\n",
    "pts = list(zip(df_test.x, df_test.y))\n",
    "kd = KDTree(pts, distance_metric='Arc', radius = pysal.cg.sphere.RADIUS_EARTH_KM)\n",
    "# test\n",
    "while trips != []:\n",
    "    trip_id = trips.pop()\n",
    "    print(f'in:trip len= {len(trips)} ====== trip id = {trip_id}')\n",
    "    # run\n",
    "    oneway_tag, cluster_trips = detect_oneway(df_test, df_lines, kd, trip_id)\n",
    "    # add tag into data\n",
    "    df_lines.loc[df_lines.trip == trip_id,'oneway'] = oneway_tag\n",
    "    print('======')\n",
    "        "
   ]
  },
  {
   "cell_type": "markdown",
   "metadata": {},
   "source": [
    "## VISUALIZING DATA"
   ]
  },
  {
   "cell_type": "code",
   "execution_count": null,
   "metadata": {},
   "outputs": [],
   "source": [
    "import folium "
   ]
  },
  {
   "cell_type": "markdown",
   "metadata": {},
   "source": [
    "### helper functions: visualize into folium map"
   ]
  },
  {
   "cell_type": "code",
   "execution_count": null,
   "metadata": {},
   "outputs": [],
   "source": [
    "colors = [\n",
    "    'green',\n",
    "    'red',\n",
    "    'orange',\n",
    "    'yellow',\n",
    "    'pink']\n",
    "\n",
    "def create_map_obj():\n",
    "    #Khởi tạo bản đồ mapobj\n",
    "    f = folium.Figure(height = 800)\n",
    "#     mapobj = folium.Map([10.778015126603638, 106.68162304214593], zoom_start = 15, tiles='Cartodb dark_matter')\n",
    "    mapobj = folium.Map([10.778015126603638, 106.68162304214593], zoom_start = 15)\n",
    "    mapobj.add_to(f)\n",
    "    return mapobj\n",
    "\n",
    "def add_point(mapobj, df, colors):\n",
    "    #Nạp x,y từ dataframe vào list coords\n",
    "    coords = list(zip(df.y, df.x))\n",
    "    #Hiển thị trên mapobj\n",
    "    for coord in coords:\n",
    "        folium.CircleMarker(location = coord,\n",
    "                            radius = 2, \n",
    "                            fill = True,\n",
    "                            fill_opacity = 1,\n",
    "                            color = colors,\n",
    "                            weight = 0.05).add_to(mapobj)\n",
    "           \n",
    "def add_lines(mapobj, df, color):\n",
    "    coords = list(zip(df.y, df.x))\n",
    "    folium.PolyLine(coords, color=color, weight=2, opacity=1).add_to(mapobj)\n",
    "       \n",
    "    \n",
    "'''\n",
    "Hàm hiển thị map.\n",
    "Tùy chọn:\n",
    "- mapobj: bản đồ nền\n",
    "- gdf: geodataframe\n",
    "- start: lộ trình bắt đầu\n",
    "- end: lộ trình kết thúc\n",
    "- mask_type: dạng đường (1) và dạng điểm (0)\n",
    "'''\n",
    "def show_n_route(mapobj, gdf, mask_type, single_color=-1):\n",
    "    # Khởi tạo bản đồ mapobj\n",
    "    f = folium.Figure(height = 600)\n",
    "    mapobj.add_to(f)\n",
    "\n",
    "    # Get list trajecs id\n",
    "    trajecs_id = list(gdf.trip.unique())\n",
    "    # Show every single trajec\n",
    "    for idx, id in enumerate(trajecs_id):\n",
    "        # get sub trajec\n",
    "        subgdf = gdf[gdf['trip'] == id]\n",
    "        color_key = idx\n",
    "        # coloring with only 1 color\n",
    "        if single_color != -1:\n",
    "            color_key = single_color\n",
    "        # coloring into mapobj\n",
    "        if mask_type == 0:\n",
    "            add_point(mapobj, subgdf, colors[color_key % len(colors)])\n",
    "        else:\n",
    "            add_lines(mapobj, subgdf, colors[color_key % len(colors)])\n",
    "  \n",
    "    return mapobj\n",
    "\n",
    "def show_n_route_label(mapobj, df, mask_type):\n",
    "    # Khởi tạo bản đồ mapobj\n",
    "    f = folium.Figure(height = 600)\n",
    "    mapobj.add_to(f)\n",
    "\n",
    "    # Get list label\n",
    "    labels = list(df.label.unique())\n",
    "    # Show every single trajec\n",
    "    for idx, label in enumerate(labels):\n",
    "        # get sub trajec\n",
    "        subdf = df[df['label'] == label]\n",
    "        # color key\n",
    "        if mask_type == 0:\n",
    "            if label == (len(colors)-1):\n",
    "                label = 0\n",
    "            add_point(mapobj, subdf, colors[ label % len(colors)])\n",
    "        else:\n",
    "            add_lines(mapobj, subdf, colors[ label % len(colors)])\n",
    "  \n",
    "    return mapobj\n",
    "\n",
    "def show_n_route_oneway(mapobj, gdf):\n",
    "    # Khởi tạo bản đồ mapobj\n",
    "    f = folium.Figure(height = 600)\n",
    "    mapobj.add_to(f)\n",
    "\n",
    "    # Get list trajecs id\n",
    "    trajecs_id = list(gdf.trip.unique())\n",
    "    # Show every single trajec\n",
    "    for idx, id in enumerate(trajecs_id):\n",
    "        # get sub trajec\n",
    "        subgdf = gdf[gdf['trip'] == id]\n",
    "        # color key\n",
    "        oneway_tag = subgdf.iloc[0].oneway\n",
    "        if oneway_tag == -1:\n",
    "            oneway_tag = 1\n",
    "        '''\n",
    "        tag = 1:  same direction with trip_id\n",
    "        tag = -1: opposite direction\n",
    "        tag = 0: at least 2 way\n",
    "        '''\n",
    "        add_point(mapobj, subgdf, colors[int(oneway_tag) % len(colors)])\n",
    "\n",
    "    return mapobj"
   ]
  },
  {
   "cell_type": "markdown",
   "metadata": {},
   "source": [
    "### Show lines"
   ]
  },
  {
   "cell_type": "code",
   "execution_count": null,
   "metadata": {},
   "outputs": [],
   "source": [
    "# map\n",
    "mapobj1 = create_map_obj()\n",
    "# # show points fisrt\n",
    "# show_n_route_label(mapobj1, gdf_lines, 0)\n",
    "# show lines\n",
    "show_n_route(mapobj1,df_lines, 1)\n"
   ]
  },
  {
   "cell_type": "markdown",
   "metadata": {},
   "source": [
    "### Show oneway points"
   ]
  },
  {
   "cell_type": "code",
   "execution_count": null,
   "metadata": {},
   "outputs": [],
   "source": [
    "# map\n",
    "mapobj_oneway = create_map_obj()\n",
    "'''\n",
    "tag = 1 (red):  same direction with trip_id\n",
    "tag = -1 (red): opposite direction\n",
    "tag = 0 (yellow): at least 2 way\n",
    "tag = -2 (green): undefine\n",
    "'''\n",
    "show_n_route(mapobj_oneway,df_lines, 1, single_color=2)\n",
    "show_n_route_oneway(mapobj_oneway, df_lines)\n"
   ]
  },
  {
   "cell_type": "markdown",
   "metadata": {},
   "source": [
    "Saving output"
   ]
  },
  {
   "cell_type": "code",
   "execution_count": null,
   "metadata": {},
   "outputs": [],
   "source": [
    "fname1 = \"output/before.html\"\n",
    "mapobj1.save(fname1)"
   ]
  },
  {
   "cell_type": "code",
   "execution_count": null,
   "metadata": {},
   "outputs": [],
   "source": [
    "fname_cluster = f\"output/cluster_{min_cluster_size}_{epsilon*earth_radius_km}.html\"\n",
    "mapobj_cluster.save(fname_cluster)"
   ]
  },
  {
   "cell_type": "code",
   "execution_count": null,
   "metadata": {},
   "outputs": [],
   "source": [
    "fname_nearest = f\"output/nearest_{min_cluster_size}_{epsilon*earth_radius_km}.html\"\n",
    "mapobj_nearest.save(fname_nearest)"
   ]
  },
  {
   "cell_type": "code",
   "execution_count": null,
   "metadata": {},
   "outputs": [],
   "source": [
    "fname_oneway = f\"output/oneway_{day}.html\"\n",
    "mapobj_oneway.save(fname_oneway)"
   ]
  },
  {
   "cell_type": "code",
   "execution_count": null,
   "metadata": {},
   "outputs": [],
   "source": [
    "df_lines.to_csv('output/oneway.csv')"
   ]
  },
  {
   "cell_type": "code",
   "execution_count": null,
   "metadata": {},
   "outputs": [],
   "source": []
  }
 ],
 "metadata": {
  "kernelspec": {
   "display_name": "Python 3",
   "language": "python",
   "name": "python3"
  },
  "language_info": {
   "codemirror_mode": {
    "name": "ipython",
    "version": 3
   },
   "file_extension": ".py",
   "mimetype": "text/x-python",
   "name": "python",
   "nbconvert_exporter": "python",
   "pygments_lexer": "ipython3",
   "version": "3.9.0"
  }
 },
 "nbformat": 4,
 "nbformat_minor": 4
}
